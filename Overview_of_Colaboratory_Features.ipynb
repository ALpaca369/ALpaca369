{
  "cells": [
    {
      "cell_type": "markdown",
      "metadata": {
        "id": "view-in-github",
        "colab_type": "text"
      },
      "source": [
        "<a href=\"https://colab.research.google.com/github/ALpaca369/ALpaca369/blob/main/Overview_of_Colaboratory_Features.ipynb\" target=\"_parent\"><img src=\"https://colab.research.google.com/assets/colab-badge.svg\" alt=\"Open In Colab\"/></a>"
      ]
    },
    {
      "cell_type": "markdown",
      "metadata": {
        "id": "JyG45Qk3qQLS"
      },
      "source": [
        "# Cells\n",
        "A notebook is a list of cells. Cells contain either explanatory text or executable code and its output. Click a cell to select it."
      ]
    },
    {
      "cell_type": "code",
      "source": [
        "# React Native setup\n",
        "!npx react-native init SpeakingClubApp\n",
        "!cd SpeakingClubApp\n",
        "!npm install @react-navigation/native firebase expo-av"
      ],
      "metadata": {
        "id": "ejTb7cItNtay",
        "outputId": "27cc1e7b-50d6-4371-91d4-b5fa6da89adb",
        "colab": {
          "base_uri": "https://localhost:8080/"
        }
      },
      "execution_count": null,
      "outputs": [
        {
          "output_type": "stream",
          "name": "stdout",
          "text": [
            "\u001b[1G\u001b[0K⠙\u001b[1G\u001b[0K⠹\u001b[1G\u001b[0K⠸\u001b[1G\u001b[0K⠼\u001b[1G\u001b[0K⠴\u001b[1G\u001b[0K⠦\u001b[1G\u001b[0K⠧\u001b[1G\u001b[0K\u001b[1G\u001b[0JNeed to install the following packages:\n",
            "react-native@0.79.2\n",
            "Ok to proceed? (y) \u001b[20G"
          ]
        }
      ]
    },
    {
      "cell_type": "code",
      "source": [
        "// Example AR activation\n",
        "import { activateARFilter } from './ar-integration';\n",
        "\n",
        "// During roleplay segment:\n",
        "activateARFilter('suit'); // Shows virtual suit on user's camera"
      ],
      "metadata": {
        "id": "bvbcPHknNi9K"
      },
      "execution_count": null,
      "outputs": []
    },
    {
      "cell_type": "code",
      "source": [
        "// TeacherControls.js\n",
        "import { useState } from 'react';\n",
        "import { View, Button } from 'react-native';\n",
        "import { updateDoc, doc } from 'firebase/firestore';\n",
        "import { db } from './firebase';\n",
        "\n",
        "const TeacherControls = ({ lessonId }) => {\n",
        "  const [isLive, setIsLive] = useState(false);\n",
        "\n",
        "  const startLesson = async () => {\n",
        "    await updateDoc(doc(db, \"lessons\", lessonId), {\n",
        "      status: \"live\",\n",
        "      startedAt: new Date()\n",
        "    });\n",
        "    setIsLive(true);\n",
        "  };\n",
        "\n",
        "  const advanceSegment = async () => {\n",
        "    // Would update Firestore to force all students to next segment\n",
        "    await updateDoc(doc(db, \"lessons\", lessonId), {\n",
        "      currentSegment: firebase.firestore.FieldValue.increment(1)\n",
        "    });\n",
        "  };\n",
        "\n",
        "  return (\n",
        "    <View>\n",
        "      {!isLive ? (\n",
        "        <Button title=\"Go Live\" onPress={startLesson} />\n",
        "      ) : (\n",
        "        <Button title=\"Next Segment\" onPress={advanceSegment} />\n",
        "      )}\n",
        "    </View>\n",
        "  );\n",
        "};"
      ],
      "metadata": {
        "id": "lwz_WTdmNOQy"
      },
      "execution_count": null,
      "outputs": []
    },
    {
      "cell_type": "code",
      "source": [
        "// backend/game-engine/jeopardy.js\n",
        "const categories = [\n",
        "  {\n",
        "    title: \"Food\",\n",
        "    words: [\n",
        "      { word: \"avocado\", points: 100, hint: \"Guacamole ingredient\" },\n",
        "      { word: \"plantain\", points: 200, hint: \"Fried Caribbean staple\" }\n",
        "    ]\n",
        "  }\n",
        "];\n",
        "\n",
        "export const checkAnswer = (word, userInput) => {\n",
        "  return word.toLowerCase() === userInput.toLowerCase();\n",
        "};\n"
      ],
      "metadata": {
        "id": "R-qVmwWILrm-"
      },
      "execution_count": null,
      "outputs": []
    },
    {
      "cell_type": "markdown",
      "metadata": {
        "id": "KR921S_OQSHG"
      },
      "source": [
        "## Code cells\n",
        "Below is a **code cell**. Once the toolbar button indicates CONNECTED, click in the cell to select it and execute the contents in the following ways:\n",
        "\n",
        "* Click the **Play icon** in the left gutter of the cell;\n",
        "* Type **Cmd/Ctrl+Enter** to run the cell in place;\n",
        "* Type **Shift+Enter** to run the cell and move focus to the next cell (adding one if none exists); or\n",
        "* Type **Alt+Enter** to run the cell and insert a new code cell immediately below it.\n",
        "\n",
        "There are additional options for running some or all cells in the **Runtime** menu.\n"
      ]
    },
    {
      "cell_type": "code",
      "source": [
        "# Tech Stack:\n",
        "- Frontend: React Native (iOS/Android) + Web (for teachers)\n",
        "- Backend: Node.js + Firebase (Realtime DB, Auth)\n",
        "- Live Video: TikTok Live SDK + Agora.io (fallback)\n",
        "- AR: Unity + Snap Kit (for lightweight filters)\n",
        "- AI: Google Speech-to-Text (pronunciation grading)"
      ],
      "metadata": {
        "id": "_2JzYlbHKt5x"
      },
      "execution_count": null,
      "outputs": []
    },
    {
      "cell_type": "code",
      "source": [
        "speaking-club/\n",
        "├── app/\n",
        "│   ├── screens/\n",
        "│   │   ├── Home.js          # Discover live classes/games\n",
        "│   │   ├── TikTokLive.js    # Embedded TikTok Live + AR\n",
        "│   │   ├── Jeopardy.js      # Game board UI\n",
        "│   │   └── ARStudio.js      # Virtual item try-on\n",
        "│   │\n",
        "│   ├── components/\n",
        "│   │   ├── ARHat.js         # 3D hat overlay component\n",
        "│   │   ├── JeopardyTile.js  # Interactive word tiles\n",
        "│   │   └── TTEmbed.js       # TikTok Live API wrapper\n",
        "│   │\n",
        "│   └── navigation/          # React Navigation setup\n",
        "│\n",
        "├── backend/\n",
        "│   ├── firebase/\n",
        "│   │   ├── auth.js          # User/teacher auth\n",
        "│   │   └── rooms.js         # Live session data\n",
        "│   │\n",
        "│   ├── tiktok/\n",
        "│   │   ├── webhooks.js      # Handle TikTok Live events\n",
        "│   │   └── oauth.js         # User auth via TikTok\n",
        "│   │\n",
        "│   └── game-engine/\n",
        "│       ├── jeopardy.js      # Word scoring logic\n",
        "│       └── ar-triggers.js   # Map AR items to actions\n",
        "│\n",
        "├── assets/\n",
        "│   ├── ar-models/           # GLB files for hats/glasses\n",
        "│   └── jeopardy-words/      # JSON word banks by level\n",
        "│\n",
        "└── integrations/\n",
        "    ├── tiktok-live/         # TikTok Live SDK bridge\n",
        "    └── snap-kit/            # AR filter configs"
      ],
      "metadata": {
        "id": "q2F625BHLF30"
      },
      "execution_count": null,
      "outputs": []
    },
    {
      "cell_type": "markdown",
      "metadata": {
        "id": "Id6tDF1HQSHD"
      },
      "source": [
        "## Text cells\n",
        "This is a **text cell**. You can **double-click** to edit this cell. Text cells\n",
        "use markdown syntax. To learn more, see our [markdown\n",
        "guide](/notebooks/markdown_guide.ipynb).\n",
        "\n",
        "You can also add math to text cells using [LaTeX](http://www.latex-project.org/)\n",
        "to be rendered by [MathJax](https://www.mathjax.org). Just place the statement\n",
        "within a pair of **\\$** signs. For example `$\\sqrt{3x-1}+(1+x)^2$` becomes\n",
        "$\\sqrt{3x-1}+(1+x)^2.$\n"
      ]
    },
    {
      "cell_type": "code",
      "execution_count": 19,
      "metadata": {
        "cellView": "both",
        "colab": {
          "height": 105,
          "base_uri": "https://localhost:8080/"
        },
        "id": "WUtu4316QSHL",
        "outputId": "a2a08672-ca18-4bdf-d91a-f96b1833412f"
      },
      "outputs": [
        {
          "output_type": "error",
          "ename": "IndentationError",
          "evalue": "unindent does not match any outer indentation level (<tokenize>, line 10)",
          "traceback": [
            "\u001b[0;36m  File \u001b[0;32m\"<tokenize>\"\u001b[0;36m, line \u001b[0;32m10\u001b[0m\n\u001b[0;31m    });\u001b[0m\n\u001b[0m    ^\u001b[0m\n\u001b[0;31mIndentationError\u001b[0m\u001b[0;31m:\u001b[0m unindent does not match any outer indentation level\n"
          ]
        }
      ],
      "source": [
        "# Assuming this is meant to be a Python comment based on the output format request\n",
        "# and that the user intended to provide Python code that was accidentally JS.\n",
        "# No python code provided, so no python code to correct.\n",
        "    onAREvent: (data) => {\n",
        "      // Trigger AR props when gifts received\n",
        "      if (data.giftId === 'sombrero') {\n",
        "        dispatch(activateARProp('hat'));\n",
        "      }\n",
        "    }\n",
        "  });\n",
        "};"
      ]
    },
    {
      "cell_type": "markdown",
      "metadata": {
        "id": "7bqjkGKwQSHW"
      },
      "source": [
        "## Adding and moving cells\n",
        "You can add new cells by using the **+ CODE** and **+ TEXT** buttons that show when you hover between cells. These buttons are also in the toolbar above the notebook where they can be used to add a cell below the currently selected cell.\n",
        "\n",
        "You can move a cell by selecting it and clicking **Cell Up** or **Cell Down** in the top toolbar.\n",
        "\n",
        "Consecutive cells can be selected by \"lasso selection\" by dragging from outside one cell and through the group.  Non-adjacent cells can be selected concurrently by clicking one and then holding down Ctrl while clicking another.  Similarly, using Shift instead of Ctrl will select all intermediate cells."
      ]
    },
    {
      "cell_type": "code",
      "source": [
        "// integrations/snap-kit/ARController.cs (Unity)\n",
        "public class ARController : MonoBehaviour {\n",
        "  public GameObject[] arItems; // Hats, glasses, etc.\n",
        "\n",
        "  void OnTikTokGiftReceived(string giftType) {\n",
        "    if (giftType == \"sombrero\") {\n",
        "      arItems[0].SetActive(true);\n",
        "    }\n",
        "  }\n",
        "}"
      ],
      "metadata": {
        "id": "9mEpdL7XMSYR"
      },
      "execution_count": null,
      "outputs": []
    },
    {
      "cell_type": "code",
      "source": [
        "```text\n",
        "4. Critical API Routes\n",
        "\n",
        "Endpoint\tPurpose\n",
        "POST /tiktok/webhook\tTikTok Live subscription events (gifts, comments)\n",
        "GET /game/jeopardy?lang=es\tFetch localized word sets\n",
        "WS /ar/live\tWebSocket for real-time AR triggers\n",
        "```\n",
        "POST /tiktok/webhook\tTikTok Live subscription events (gifts, comments)\n",
        "GET /game/jeopardy?lang=es\tFetch localized word sets\n",
        "WS /ar/live\tWebSocket for real-time AR triggers"
      ],
      "metadata": {
        "id": "q8Rf-04tMzAR",
        "outputId": "f0b000b4-7a5c-4928-a8b5-b184ae2c26de",
        "colab": {
          "base_uri": "https://localhost:8080/",
          "height": 105
        }
      },
      "execution_count": 20,
      "outputs": [
        {
          "output_type": "error",
          "ename": "SyntaxError",
          "evalue": "invalid syntax (<ipython-input-20-3a003470f954>, line 1)",
          "traceback": [
            "\u001b[0;36m  File \u001b[0;32m\"<ipython-input-20-3a003470f954>\"\u001b[0;36m, line \u001b[0;32m1\u001b[0m\n\u001b[0;31m    ```text\u001b[0m\n\u001b[0m    ^\u001b[0m\n\u001b[0;31mSyntaxError\u001b[0m\u001b[0;31m:\u001b[0m invalid syntax\n"
          ]
        }
      ]
    },
    {
      "cell_type": "code",
      "source": [
        "# Firebase setup\n",
        "firebase init firestore\n",
        "firebase deploy --only firestore:rules"
      ],
      "metadata": {
        "id": "C9Rq1dU2N1tm"
      },
      "execution_count": null,
      "outputs": []
    },
    {
      "cell_type": "markdown",
      "metadata": {
        "id": "GOwlZRXEQSHZ"
      },
      "source": [
        "# Working with python\n",
        "Colaboratory is built on top of [Jupyter Notebook](https://jupyter.org/). Below are some examples of convenience functions provided."
      ]
    },
    {
      "cell_type": "code",
      "source": [
        "{\n",
        "  \"id\": \"lesson_job_interview\",\n",
        "  \"title\": \"Job Interview Mastery\",\n",
        "  \"level\": \"Intermediate\",\n",
        "  \"duration\": 60,\n",
        "  \"segments\": [\n",
        "    {\n",
        "      \"type\": \"warmup\",\n",
        "      \"duration\": 10,\n",
        "      \"prompt\": \"Share your dream job in one sentence\",\n",
        "      \"media\": \"https://...\"\n",
        "    },\n",
        "    {\n",
        "      \"type\": \"audiobook\",\n",
        "      \"duration\": 15,\n",
        "      \"book\": \"Lean In\",\n",
        "      \"chapter\": \"Chapter 3\",\n",
        "      \"audioFile\": \"gs://.../lean_in_ch3.mp3\",\n",
        "      \"transcript\": \"When I joined Facebook...\"\n",
        "    },\n",
        "    {\n",
        "      \"type\": \"vocabulary\",\n",
        "      \"duration\": 15,\n",
        "      \"words\": [\n",
        "        {\"word\": \"negotiation\", \"definition\": \"Discussion to reach agreement\"},\n",
        "        {\"word\": \"self-promotion\", \"definition\": \"Confidently sharing achievements\"}\n",
        "      ],\n",
        "      \"discussionQuestion\": \"When have you negotiated successfully?\"\n",
        "    },\n",
        "    {\n",
        "      \"type\": \"roleplay\",\n",
        "      \"duration\": 10,\n",
        "      \"scenario\": \"You're interviewing for a remote job\",\n",
        "      \"arProps\": [\"glasses\", \"suit\"],\n",
        "      \"roles\": [\"Interviewer\", \"Candidate\"]\n",
        "    },\n",
        "    {\n",
        "      \"type\": \"homework\",\n",
        "      \"task\": \"Record a 1-minute elevator pitch\",\n",
        "      \"submissionType\": \"video\"\n",
        "    }\n",
        "  ]\n",
        "}\n",
        "  title: \"Job Interview Mastery\",\n",
        "  level: \"Intermediate\",\n",
        "  duration: 60, // minutes\n",
        "  segments: [\n",
        "    {\n",
        "      type: \"warmup\",\n",
        "      duration: 10,\n",
        "      prompt: \"Share your dream job in one sentence\",\n",
        "      media: \"https://...\" // (optional) funny job meme\n",
        "    },\n",
        "    {\n",
        "      type: \"audiobook\",\n",
        "      duration: 15,\n",
        "      book: \"Lean In\",\n",
        "      chapter: \"Chapter 3\",\n",
        "      audioFile: \"gs://.../lean_in_ch3.mp3\",\n",
        "      transcript: \"When I joined Facebook...\"\n",
        "    },\n",
        "    {\n",
        "      type: \"vocabulary\",\n",
        "      duration: 15,\n",
        "      words: [\n",
        "        {word: \"negotiation\", definition: \"Discussion to reach agreement\"},\n",
        "        {word: \"self-promotion\", definition: \"Confidently sharing achievements\"}\n",
        "      ],\n",
        "      discussionQuestion: \"When have you negotiated successfully?\"\n",
        "    },\n",
        "    {\n",
        "      type: \"roleplay\",\n",
        "      duration: 10,\n",
        "      scenario: \"You're interviewing for a remote job\",\n",
        "      arProps: [\"glasses\", \"suit\"], // AR filters to activate\n",
        "      roles: [\"Interviewer\", \"Candidate\"]\n",
        "    },\n",
        "    {\n",
        "      type: \"homework\",\n",
        "      task: \"Record a 1-minute elevator pitch\",\n",
        "      submissionType: \"video\" // or \"text\"\n",
        "    }\n",
        "  ]\n",
        "}"
      ],
      "metadata": {
        "id": "cj23xu0nM2QI",
        "outputId": "155b7103-0ce2-4623-9f07-711efaa85193",
        "colab": {
          "base_uri": "https://localhost:8080/",
          "height": 105
        }
      },
      "execution_count": 21,
      "outputs": [
        {
          "output_type": "error",
          "ename": "SyntaxError",
          "evalue": "invalid syntax (<ipython-input-21-14f0d73d15d1>, line 1)",
          "traceback": [
            "\u001b[0;36m  File \u001b[0;32m\"<ipython-input-21-14f0d73d15d1>\"\u001b[0;36m, line \u001b[0;32m1\u001b[0m\n\u001b[0;31m    // Firestore document structure\u001b[0m\n\u001b[0m    ^\u001b[0m\n\u001b[0;31mSyntaxError\u001b[0m\u001b[0;31m:\u001b[0m invalid syntax\n"
          ]
        }
      ]
    },
    {
      "cell_type": "markdown",
      "metadata": {
        "id": "RVuqWUXPQSHa"
      },
      "source": [
        "Long running python processes can be interrupted. Run the following cell and select **Runtime -> Interrupt execution** (*hotkey: Cmd/Ctrl-M I*) to stop execution."
      ]
    },
    {
      "cell_type": "code",
      "execution_count": 22,
      "metadata": {
        "cellView": "both",
        "colab": {
          "base_uri": "https://localhost:8080/"
        },
        "id": "d-S-3nYLQSHb",
        "outputId": "c8afee61-dbb1-42fd-ca81-379a060f705f"
      },
      "outputs": [
        {
          "output_type": "stream",
          "name": "stdout",
          "text": [
            "Sleeping\n",
            "Done Sleeping\n"
          ]
        }
      ],
      "source": [
        "import time\n",
        "print(\"Sleeping\")\n",
        "time.sleep(30) # sleep for a while; interrupt me!\n",
        "print(\"Done Sleeping\")"
      ]
    },
    {
      "cell_type": "markdown",
      "metadata": {
        "id": "Wej_mEyXQSHc"
      },
      "source": [
        "## System aliases\n",
        "\n",
        "Jupyter includes shortcuts for common operations, such as ls:"
      ]
    },
    {
      "cell_type": "code",
      "execution_count": 23,
      "metadata": {
        "cellView": "both",
        "colab": {
          "base_uri": "https://localhost:8080/"
        },
        "id": "5OCYEvK5QSHf",
        "outputId": "6043e055-eacf-4e4b-85fc-d84495d38e2f"
      },
      "outputs": [
        {
          "output_type": "stream",
          "name": "stdout",
          "text": [
            "'['\t\t\t\t      mingle\n",
            " 7z\t\t\t\t      mispipe\n",
            " 7za\t\t\t\t      mkdir\n",
            " 7zr\t\t\t\t      mkfifo\n",
            " aclocal\t\t\t      mknod\n",
            " aclocal-1.16\t\t\t      mktemp\n",
            " acyclic\t\t\t      mm2gv\n",
            " add-apt-repository\t\t      more\n",
            " addpart\t\t\t      mount\n",
            " addr2line\t\t\t      mountpoint\n",
            " aggregate_profile\t\t      mpexpand\n",
            " ambiguous_words\t\t      mpic++\n",
            " apropos\t\t\t      mpicc\n",
            " apt\t\t\t\t      mpiCC\n",
            " apt-add-repository\t\t      mpicc.openmpi\n",
            " apt-cache\t\t\t      mpiCC.openmpi\n",
            " apt-cdrom\t\t\t      mpic++.openmpi\n",
            " apt-config\t\t\t      mpicxx\n",
            " apt-extracttemplates\t\t      mpicxx.openmpi\n",
            " apt-ftparchive\t\t\t      mpiexec\n",
            " apt-get\t\t\t      mpiexec.openmpi\n",
            " apt-key\t\t\t      mpif77\n",
            " apt-mark\t\t\t      mpif77.openmpi\n",
            " apt-sortpkgs\t\t\t      mpif90\n",
            " ar\t\t\t\t      mpif90.openmpi\n",
            " arch\t\t\t\t      mpifort\n",
            " as\t\t\t\t      mpifort.openmpi\n",
            " asan_symbolize\t\t\t      mpijavac\n",
            " asan_symbolize-14\t\t      mpijavac.pl\n",
            " autoconf\t\t\t      mpirun\n",
            " autoheader\t\t\t      mpirun.openmpi\n",
            " autom4te\t\t\t      mv\n",
            " automake\t\t\t      mysql_config\n",
            " automake-1.16\t\t\t      namei\n",
            " autoreconf\t\t\t      nawk\n",
            " autoscan\t\t\t      nc-config\n",
            " autoupdate\t\t\t      ncurses5-config\n",
            " awk\t\t\t\t      ncurses6-config\n",
            " b2\t\t\t\t      ncursesw5-config\n",
            " b2sum\t\t\t\t      ncursesw6-config\n",
            " base32\t\t\t\t      neato\n",
            " base64\t\t\t\t      neqn\n",
            " basename\t\t\t      netstat\n",
            " basenc\t\t\t\t      networkctl\n",
            " bash\t\t\t\t      newgrp\n",
            " bashbug\t\t\t      nice\n",
            " bcomps\t\t\t\t      nisdomainname\n",
            " bcp\t\t\t\t      nl\n",
            " bjam\t\t\t\t      nm\n",
            " bootctl\t\t\t      nns\n",
            " browse\t\t\t\t      nnsd\n",
            " bunzip2\t\t\t      nnslog\n",
            " busctl\t\t\t\t      nohup\n",
            " bzcat\t\t\t\t      nop\n",
            " bzcmp\t\t\t\t      nproc\n",
            " bzdiff\t\t\t\t      nroff\n",
            " bzegrep\t\t\t      nsenter\n",
            " bzexe\t\t\t\t      nslookup\n",
            " bzfgrep\t\t\t      nstat\n",
            " bzgrep\t\t\t\t      nsupdate\n",
            " bzip2\t\t\t\t      numfmt\n",
            " bzip2recover\t\t\t      objcopy\n",
            " bzless\t\t\t\t      objdump\n",
            " bzmore\t\t\t\t      od\n",
            " c++\t\t\t\t      ogdi-config\n",
            " c89\t\t\t\t      ompi-clean\n",
            " c89-gcc\t\t\t      ompi_info\n",
            " c99\t\t\t\t      ompi-server\n",
            " c99-gcc\t\t\t      opalc++\n",
            " captoinfo\t\t\t      opalcc\n",
            " cat\t\t\t\t      opal_wrapper\n",
            " catman\t\t\t\t      open\n",
            " cautious-launcher\t\t      opencv_annotation\n",
            " cc\t\t\t\t      opencv_interactive-calibration\n",
            " ccomps\t\t\t\t      opencv_model_diagnostics\n",
            " c++filt\t\t\t      opencv_version\n",
            " chage\t\t\t\t      opencv_visualisation\n",
            " chattr\t\t\t\t      opencv_waldboost_detector\n",
            " chcon\t\t\t\t      openssl\n",
            " chfn\t\t\t\t      ortecc\n",
            " chgrp\t\t\t\t      orte-clean\n",
            " chmod\t\t\t\t      orted\n",
            " choom\t\t\t\t      orte-info\n",
            " chown\t\t\t\t      orterun\n",
            " chronic\t\t\t      orte-server\n",
            " chrt\t\t\t\t      osage\n",
            " chsh\t\t\t\t      oshc++\n",
            " circo\t\t\t\t      oshcc\n",
            " cksum\t\t\t\t      oshCC\n",
            " clang\t\t\t\t      oshcxx\n",
            " clang++\t\t\t      oshfort\n",
            " clang++-14\t\t\t      oshmem_info\n",
            " clang-14\t\t\t      oshrun\n",
            " clang-cpp-14\t\t\t      p7zip\n",
            " classifier_tester\t\t      pack200\n",
            " clear\t\t\t\t      page\n",
            " clear_console\t\t\t      pager\n",
            " clinfo\t\t\t\t      paperconf\n",
            " cluster\t\t\t      parallel\n",
            " cmake\t\t\t\t      partx\n",
            " cmp\t\t\t\t      passwd\n",
            " cntraining\t\t\t      paste\n",
            " col\t\t\t\t      patch\n",
            " colcrt\t\t\t\t      patchwork\n",
            " colrm\t\t\t\t      pathchk\n",
            " column\t\t\t\t      pcre2-config\n",
            " combine\t\t\t      pcre-config\n",
            " combine_lang_model\t\t      pdb3\n",
            " combine_tessdata\t\t      pdb3.10\n",
            " comm\t\t\t\t      pdb3.11\n",
            " compile_et\t\t\t      pee\n",
            " compose\t\t\t      peekfd\n",
            " corelist\t\t\t      perl\n",
            " cp\t\t\t\t      perl5.34.0\n",
            " cpack\t\t\t\t      perl5.34-x86_64-linux-gnu\n",
            " cpan\t\t\t\t      perlbug\n",
            " cpan5.34-x86_64-linux-gnu\t      perldoc\n",
            " cpp\t\t\t\t      perlivp\n",
            " cpp-11\t\t\t\t      perlthanks\n",
            " c_rehash\t\t\t      pg_config\n",
            " csplit\t\t\t\t      pgrep\n",
            " ctest\t\t\t\t      pic\n",
            " ctstat\t\t\t\t      piconv\n",
            " curl\t\t\t\t      pidof\n",
            " curl-config\t\t\t      pidwait\n",
            " cut\t\t\t\t      pigz\n",
            " cvtsudoers\t\t\t      pinentry\n",
            " dash\t\t\t\t      pinentry-curses\n",
            " date\t\t\t\t      pinky\n",
            " dawg2wordlist\t\t\t      pkaction\n",
            " dbus-cleanup-sockets\t\t      pkcheck\n",
            " dbus-daemon\t\t\t      pkexec\n",
            " dbus-monitor\t\t\t      pkgconf\n",
            " dbus-run-session\t\t      pkg-config\n",
            " dbus-send\t\t\t      pkgdata\n",
            " dbus-update-activation-environment   pkill\n",
            " dbus-uuidgen\t\t\t      pkttyagent\n",
            " dd\t\t\t\t      pl2pm\n",
            " debconf\t\t\t      pldd\n",
            " debconf-apt-progress\t\t      pmap\n",
            " debconf-communicate\t\t      pod2html\n",
            " debconf-copydb\t\t\t      pod2man\n",
            " debconf-escape\t\t\t      pod2text\n",
            " debconf-set-selections\t\t      pod2usage\n",
            " debconf-show\t\t\t      podchecker\n",
            " deb-systemd-helper\t\t      pprof-symbolize\n",
            " deb-systemd-invoke\t\t      pr\n",
            " delpart\t\t\t      preconv\n",
            " delv\t\t\t\t      prename\n",
            " derb\t\t\t\t      print\n",
            " df\t\t\t\t      printenv\n",
            " dh_autotools-dev_restoreconfig       printf\n",
            " dh_autotools-dev_updateconfig\t      prlimit\n",
            " dh_girepository\t\t      profile2mat\n",
            " diff\t\t\t\t      protoc\n",
            " diff3\t\t\t\t      prove\n",
            " diffimg\t\t\t      prtstat\n",
            " dig\t\t\t\t      prune\n",
            " dijkstra\t\t\t      ps\n",
            " dir\t\t\t\t      pslog\n",
            " dircolors\t\t\t      pstree\n",
            " dirmngr\t\t\t      pstree.x11\n",
            " dirmngr-client\t\t\t      pt\n",
            " dirname\t\t\t      ptar\n",
            " dmesg\t\t\t\t      ptardiff\n",
            " dnsdomainname\t\t\t      ptargrep\n",
            " domainname\t\t\t      ptx\n",
            " dot\t\t\t\t      pwd\n",
            " dot2gxl\t\t\t      pwdx\n",
            " dot_builtins\t\t\t      py3clean\n",
            " dotty\t\t\t\t      py3compile\n",
            " dpkg\t\t\t\t      py3versions\n",
            " dpkg-architecture\t\t      pydoc3\n",
            " dpkg-buildflags\t\t      pydoc3.10\n",
            " dpkg-buildpackage\t\t      pydoc3.11\n",
            " dpkg-checkbuilddeps\t\t      pygettext3\n",
            " dpkg-deb\t\t\t      pygettext3.10\n",
            " dpkg-distaddfile\t\t      pygettext3.11\n",
            " dpkg-divert\t\t\t      python3\n",
            " dpkg-genbuildinfo\t\t      python3.10\n",
            " dpkg-genchanges\t\t      python3.10-config\n",
            " dpkg-gencontrol\t\t      python3.11\n",
            " dpkg-gensymbols\t\t      python3.11-config\n",
            " dpkg-maintscript-helper\t      python3-config\n",
            " dpkg-mergechangelogs\t\t      qt-faststart\n",
            " dpkg-name\t\t\t      quickbook\n",
            " dpkg-parsechangelog\t\t      R\n",
            " dpkg-query\t\t\t      ranlib\n",
            " dpkg-realpath\t\t\t      rbash\n",
            " dpkg-scanpackages\t\t      rcp\n",
            " dpkg-scansources\t\t      rdma\n",
            " dpkg-shlibdeps\t\t\t      readelf\n",
            " dpkg-source\t\t\t      readlink\n",
            " dpkg-split\t\t\t      realpath\n",
            " dpkg-statoverride\t\t      rename\n",
            " dpkg-trigger\t\t\t      renice\n",
            " dpkg-vendor\t\t\t      reset\n",
            " dtplite\t\t\t      resizepart\n",
            " du\t\t\t\t      resolvectl\n",
            " dwp\t\t\t\t      rev\n",
            " echo\t\t\t\t      rgrep\n",
            " edgepaint\t\t\t      rlogin\n",
            " edit\t\t\t\t      rm\n",
            " editor\t\t\t\t      rmdir\n",
            " egrep\t\t\t\t      rmic\n",
            " elfedit\t\t\t      rmid\n",
            " enc2xs\t\t\t\t      rmiregistry\n",
            " encguess\t\t\t      routef\n",
            " env\t\t\t\t      routel\n",
            " eqn\t\t\t\t      rpcgen\n",
            " errno\t\t\t\t      rrsync\n",
            " ex\t\t\t\t      Rscript\n",
            " expand\t\t\t\t      rsh\n",
            " expiry\t\t\t\t      rsync\n",
            " expr\t\t\t\t      rsync-ssl\n",
            " f77\t\t\t\t      rtstat\n",
            " f95\t\t\t\t      runcon\n",
            " factor\t\t\t\t      run-mailcap\n",
            " faillog\t\t\t      run-parts\n",
            " fallocate\t\t\t      rview\n",
            " false\t\t\t\t      rvim\n",
            " fc-cache\t\t\t      savelog\n",
            " fc-cat\t\t\t\t      sccmap\n",
            " fc-conflist\t\t\t      scp\n",
            " fc-list\t\t\t      script\n",
            " fc-match\t\t\t      scriptlive\n",
            " fc-pattern\t\t\t      scriptreplay\n",
            " fc-query\t\t\t      sdiff\n",
            " fc-scan\t\t\t      sed\n",
            " fc-validate\t\t\t      see\n",
            " fdp\t\t\t\t      select-editor\n",
            " ffmpeg\t\t\t\t      sensible-browser\n",
            " ffplay\t\t\t\t      sensible-editor\n",
            " ffprobe\t\t\t      sensible-pager\n",
            " fgrep\t\t\t\t      seq\n",
            " file\t\t\t\t      serialver\n",
            " file-rename\t\t\t      setarch\n",
            " fincore\t\t\t      setpriv\n",
            " find\t\t\t\t      setsid\n",
            " findmnt\t\t\t      setterm\n",
            " fio\t\t\t\t      set_unicharset_properties\n",
            " fio2gnuplot\t\t\t      setxkbmap\n",
            " fio-btrace2fio\t\t\t      sfdp\n",
            " fio-dedupe\t\t\t      sftp\n",
            " fio_generate_plots\t\t      sg\n",
            " fio-genzipf\t\t\t      sh\n",
            " fio_jsonplus_clat2csv\t\t      sha1sum\n",
            " fio-verify-state\t\t      sha224sum\n",
            " flock\t\t\t\t      sha256sum\n",
            " fmt\t\t\t\t      sha384sum\n",
            " fold\t\t\t\t      sha512sum\n",
            " free\t\t\t\t      shapeclustering\n",
            " funzip\t\t\t\t      shasum\n",
            " fuser\t\t\t\t      shmemc++\n",
            " fusermount\t\t\t      shmemcc\n",
            " g++\t\t\t\t      shmemCC\n",
            " g++-11\t\t\t\t      shmemcxx\n",
            " gapplication\t\t\t      shmemfort\n",
            " gc\t\t\t\t      shmemrun\n",
            " gcc\t\t\t\t      shred\n",
            " gcc-11\t\t\t\t      shuf\n",
            " gcc-ar\t\t\t\t      size\n",
            " gcc-ar-11\t\t\t      skill\n",
            " gcc-nm\t\t\t\t      slabtop\n",
            " gcc-nm-11\t\t\t      sleep\n",
            " gcc-ranlib\t\t\t      slogin\n",
            " gcc-ranlib-11\t\t\t      snice\n",
            " gcov\t\t\t\t      soelim\n",
            " gcov-11\t\t\t      sort\n",
            " gcov-dump\t\t\t      splain\n",
            " gcov-dump-11\t\t\t      split\n",
            " gcov-tool\t\t\t      sponge\n",
            " gcov-tool-11\t\t\t      ss\n",
            " gdal-config\t\t\t      ssh\n",
            " gdbus\t\t\t\t      ssh-add\n",
            " gdbus-codegen\t\t\t      ssh-agent\n",
            " genbrk\t\t\t\t      ssh-argv0\n",
            " gencat\t\t\t\t      ssh-copy-id\n",
            " gencfu\t\t\t\t      ssh-keygen\n",
            " gencnval\t\t\t      ssh-keyscan\n",
            " gendict\t\t\t      stat\n",
            " genfio\t\t\t\t      stdbuf\n",
            " genrb\t\t\t\t      streamzip\n",
            " geos-config\t\t\t      strings\n",
            " geqn\t\t\t\t      strip\n",
            " getconf\t\t\t      stty\n",
            " getent\t\t\t\t      su\n",
            " getopt\t\t\t\t      sudo\n",
            " gfortran\t\t\t      sudoedit\n",
            " gfortran-11\t\t\t      sudoreplay\n",
            " gio\t\t\t\t      sum\n",
            " gio-querymodules\t\t      sync\n",
            " g-ir-annotation-tool\t\t      systemctl\n",
            " g-ir-compiler\t\t\t      systemd\n",
            " g-ir-doc-tool\t\t\t      systemd-analyze\n",
            " g-ir-generate\t\t\t      systemd-ask-password\n",
            " g-ir-inspect\t\t\t      systemd-cat\n",
            " g-ir-scanner\t\t\t      systemd-cgls\n",
            " git\t\t\t\t      systemd-cgtop\n",
            " git-lfs\t\t\t      systemd-cryptenroll\n",
            " git-receive-pack\t\t      systemd-delta\n",
            " git-shell\t\t\t      systemd-detect-virt\n",
            " git-upload-archive\t\t      systemd-escape\n",
            " git-upload-pack\t\t      systemd-id128\n",
            " glib-compile-resources\t\t      systemd-inhibit\n",
            " glib-compile-schemas\t\t      systemd-machine-id-setup\n",
            " glib-genmarshal\t\t      systemd-mount\n",
            " glib-gettextize\t\t      systemd-notify\n",
            " glib-mkenums\t\t\t      systemd-path\n",
            " gmake\t\t\t\t      systemd-run\n",
            " gml2gv\t\t\t\t      systemd-socket-activate\n",
            " gobject-query\t\t\t      systemd-stdio-bridge\n",
            " gold\t\t\t\t      systemd-sysext\n",
            " google-pprof\t\t\t      systemd-sysusers\n",
            " gpasswd\t\t\t      systemd-tmpfiles\n",
            " gpg\t\t\t\t      systemd-tty-ask-password-agent\n",
            " gpg2\t\t\t\t      systemd-umount\n",
            " gpg-agent\t\t\t      tabs\n",
            " gpgcompose\t\t\t      tac\n",
            " gpgconf\t\t\t      tail\n",
            " gpg-connect-agent\t\t      tar\n",
            " gpgparsemail\t\t\t      taskset\n",
            " gpgsm\t\t\t\t      tbl\n",
            " gpgsplit\t\t\t      tcldocstrip\n",
            " gpgtar\t\t\t\t      tclsh\n",
            " gpgv\t\t\t\t      tclsh8.6\n",
            " gpg-wks-server\t\t\t      tcltk-depends\n",
            " gpg-zip\t\t\t      tee\n",
            " gpic\t\t\t\t      tempfile\n",
            " gprof\t\t\t\t      tesseract\n",
            " graphml2gv\t\t\t      test\n",
            " grep\t\t\t\t      text2image\n",
            " gresource\t\t\t      tic\n",
            " groff\t\t\t\t      timedatectl\n",
            " grog\t\t\t\t      timeout\n",
            " grops\t\t\t\t      tload\n",
            " grotty\t\t\t\t      tmux\n",
            " groups\t\t\t\t      toe\n",
            " gsettings\t\t\t      top\n",
            " gtbl\t\t\t\t      touch\n",
            " gtester\t\t\t      tput\n",
            " gtester-report\t\t\t      tr\n",
            " gtk-update-icon-cache\t\t      tred\n",
            " gunzip\t\t\t\t      troff\n",
            " gv2gml\t\t\t\t      true\n",
            " gv2gxl\t\t\t\t      truncate\n",
            " gvcolor\t\t\t      ts\n",
            " gvgen\t\t\t\t      tset\n",
            " gvmap\t\t\t\t      tsort\n",
            " gvmap.sh\t\t\t      tty\n",
            " gvpack\t\t\t\t      twopi\n",
            " gvpr\t\t\t\t      tzselect\n",
            " gxl2dot\t\t\t      ucf\n",
            " gxl2gv\t\t\t\t      ucfq\n",
            " gzexe\t\t\t\t      ucfr\n",
            " gzip\t\t\t\t      uclampset\n",
            " h2ph\t\t\t\t      uconv\n",
            " h2xs\t\t\t\t      ul\n",
            " h5c++\t\t\t\t      ulockmgr_server\n",
            " h5cc\t\t\t\t      umount\n",
            " h5fc\t\t\t\t      uname\n",
            " hardlink\t\t\t      uncompress\n",
            " hd\t\t\t\t      unexpand\n",
            " head\t\t\t\t      unflatten\n",
            " helpztags\t\t\t      unicharset_extractor\n",
            " hexdump\t\t\t      uniq\n",
            " host\t\t\t\t      unlink\n",
            " hostid\t\t\t\t      unlzma\n",
            " hostname\t\t\t      unpack200\n",
            " hostnamectl\t\t\t      unpigz\n",
            " i386\t\t\t\t      unrar\n",
            " iconv\t\t\t\t      unrar-nonfree\n",
            " icuexportdata\t\t\t      unshare\n",
            " icuinfo\t\t\t      unxz\n",
            " id\t\t\t\t      unzip\n",
            " ifdata\t\t\t\t      unzipsfx\n",
            " ifnames\t\t\t      update-alternatives\n",
            " ifne\t\t\t\t      update-mime-database\n",
            " infocmp\t\t\t      uptime\n",
            " infotocap\t\t\t      users\n",
            " inspect\t\t\t      utmpdump\n",
            " install\t\t\t      vdir\n",
            " instmodsh\t\t\t      vi\n",
            " ionice\t\t\t\t      vidir\n",
            " ip\t\t\t\t      view\n",
            " ipcmk\t\t\t\t      vim\n",
            " ipcrm\t\t\t\t      vim.basic\n",
            " ipcs\t\t\t\t      vimdiff\n",
            " ischroot\t\t\t      vimdot\n",
            " isutf8\t\t\t\t      vimtutor\n",
            " jaotc\t\t\t\t      vipe\n",
            " jar\t\t\t\t      vmstat\n",
            " jarsigner\t\t\t      w\n",
            " java\t\t\t\t      wall\n",
            " javac\t\t\t\t      watch\n",
            " javadoc\t\t\t      watchgnupg\n",
            " javap\t\t\t\t      wc\n",
            " jcmd\t\t\t\t      wdctl\n",
            " jdb\t\t\t\t      wget\n",
            " jdeprscan\t\t\t      whatis\n",
            " jdeps\t\t\t\t      whereis\n",
            " jexec\t\t\t\t      which\n",
            " jfr\t\t\t\t      which.debianutils\n",
            " jhsdb\t\t\t\t      who\n",
            " jimage\t\t\t\t      whoami\n",
            " jinfo\t\t\t\t      wish\n",
            " jjs\t\t\t\t      wish8.6\n",
            " jlink\t\t\t\t      wordlist2dawg\n",
            " jmap\t\t\t\t      write\n",
            " jmod\t\t\t\t      write.ul\n",
            " join\t\t\t\t      X11\n",
            " journalctl\t\t\t      x86_64\n",
            " jps\t\t\t\t      x86_64-linux-gnu-addr2line\n",
            " jrunscript\t\t\t      x86_64-linux-gnu-ar\n",
            " jshell\t\t\t\t      x86_64-linux-gnu-as\n",
            " json_pp\t\t\t      x86_64-linux-gnu-c++filt\n",
            " jstack\t\t\t\t      x86_64-linux-gnu-cpp\n",
            " jstat\t\t\t\t      x86_64-linux-gnu-cpp-11\n",
            " jstatd\t\t\t\t      x86_64-linux-gnu-dwp\n",
            " kbxutil\t\t\t      x86_64-linux-gnu-elfedit\n",
            " kernel-install\t\t\t      x86_64-linux-gnu-g++\n",
            " keyring\t\t\t      x86_64-linux-gnu-g++-11\n",
            " keytool\t\t\t      x86_64-linux-gnu-gcc\n",
            " kill\t\t\t\t      x86_64-linux-gnu-gcc-11\n",
            " killall\t\t\t      x86_64-linux-gnu-gcc-ar\n",
            " kmod\t\t\t\t      x86_64-linux-gnu-gcc-ar-11\n",
            " krb5-config\t\t\t      x86_64-linux-gnu-gcc-nm\n",
            " krb5-config.mit\t\t      x86_64-linux-gnu-gcc-nm-11\n",
            " last\t\t\t\t      x86_64-linux-gnu-gcc-ranlib\n",
            " lastb\t\t\t\t      x86_64-linux-gnu-gcc-ranlib-11\n",
            " lastlog\t\t\t      x86_64-linux-gnu-gcov\n",
            " lcf\t\t\t\t      x86_64-linux-gnu-gcov-11\n",
            " lckdo\t\t\t\t      x86_64-linux-gnu-gcov-dump\n",
            " ld\t\t\t\t      x86_64-linux-gnu-gcov-dump-11\n",
            " ld.bfd\t\t\t\t      x86_64-linux-gnu-gcov-tool\n",
            " ldd\t\t\t\t      x86_64-linux-gnu-gcov-tool-11\n",
            " ld.gold\t\t\t      x86_64-linux-gnu-gfortran\n",
            " lefty\t\t\t\t      x86_64-linux-gnu-gfortran-11\n",
            " less\t\t\t\t      x86_64-linux-gnu-gold\n",
            " lessecho\t\t\t      x86_64-linux-gnu-gprof\n",
            " lessfile\t\t\t      x86_64-linux-gnu-ld\n",
            " lesskey\t\t\t      x86_64-linux-gnu-ld.bfd\n",
            " lesspipe\t\t\t      x86_64-linux-gnu-ld.gold\n",
            " lexgrog\t\t\t      x86_64-linux-gnu-lto-dump-11\n",
            " libnetcfg\t\t\t      x86_64-linux-gnu-nm\n",
            " libpng16-config\t\t      x86_64-linux-gnu-objcopy\n",
            " libpng-config\t\t\t      x86_64-linux-gnu-objdump\n",
            " link\t\t\t\t      x86_64-linux-gnu-pkg-config\n",
            " linux32\t\t\t      x86_64-linux-gnu-python3.10-config\n",
            " linux64\t\t\t      x86_64-linux-gnu-python3.11-config\n",
            " ln\t\t\t\t      x86_64-linux-gnu-python3-config\n",
            " lneato\t\t\t\t      x86_64-linux-gnu-ranlib\n",
            " lnstat\t\t\t\t      x86_64-linux-gnu-readelf\n",
            " locale\t\t\t\t      x86_64-linux-gnu-size\n",
            " locale-check\t\t\t      x86_64-linux-gnu-strings\n",
            " localectl\t\t\t      x86_64-linux-gnu-strip\n",
            " localedef\t\t\t      xargs\n",
            " logger\t\t\t\t      xauth\n",
            " login\t\t\t\t      xdg-desktop-icon\n",
            " loginctl\t\t\t      xdg-desktop-menu\n",
            " logname\t\t\t      xdg-email\n",
            " look\t\t\t\t      xdg-icon-resource\n",
            " ls\t\t\t\t      xdg-mime\n",
            " lsattr\t\t\t\t      xdg-open\n",
            " lsblk\t\t\t\t      xdg-screensaver\n",
            " lsb_release\t\t\t      xdg-settings\n",
            " lscpu\t\t\t\t      xkbbell\n",
            " lsipc\t\t\t\t      xkbcomp\n",
            " lslocks\t\t\t      xkbevd\n",
            " lslogins\t\t\t      xkbprint\n",
            " lsmem\t\t\t\t      xkbvleds\n",
            " lsmod\t\t\t\t      xkbwatch\n",
            " lsns\t\t\t\t      xml2-config\n",
            " lsof\t\t\t\t      xsubpp\n",
            " lspgpot\t\t\t      Xvfb\n",
            " lstmeval\t\t\t      xvfb-run\n",
            " lstmtraining\t\t\t      xxd\n",
            " lto-dump-11\t\t\t      xz\n",
            " lzcat\t\t\t\t      xzcat\n",
            " lzcmp\t\t\t\t      xzcmp\n",
            " lzdiff\t\t\t\t      xzdiff\n",
            " lzegrep\t\t\t      xzegrep\n",
            " lzfgrep\t\t\t      xzfgrep\n",
            " lzgrep\t\t\t\t      xzgrep\n",
            " lzless\t\t\t\t      xzless\n",
            " lzma\t\t\t\t      xzmore\n",
            " lzmainfo\t\t\t      yes\n",
            " lzmore\t\t\t\t      ypdomainname\n",
            " m4\t\t\t\t      zcat\n",
            " make\t\t\t\t      zcmp\n",
            " makeconv\t\t\t      zdiff\n",
            " make-first-existing-target\t      zdump\n",
            " mako-render\t\t\t      zegrep\n",
            " man\t\t\t\t      zfgrep\n",
            " mandb\t\t\t\t      zforce\n",
            " manpath\t\t\t      zgrep\n",
            " man.REAL\t\t\t      zip\n",
            " man-recode\t\t\t      zipcloak\n",
            " markdown_py\t\t\t      zipdetails\n",
            " mawk\t\t\t\t      zipgrep\n",
            " mcookie\t\t\t      zipinfo\n",
            " md5sum\t\t\t\t      zipnote\n",
            " md5sum.textutils\t\t      zipsplit\n",
            " mdig\t\t\t\t      zless\n",
            " merge_unicharsets\t\t      zmore\n",
            " mesg\t\t\t\t      znew\n",
            " mftraining\t\t\t      zrun\n",
            " migrate-pubring-from-classic-gpg\n"
          ]
        }
      ],
      "source": [
        "!ls /bin"
      ]
    },
    {
      "cell_type": "markdown",
      "metadata": {
        "id": "y8Da6JWKQSHh"
      },
      "source": [
        "That `!ls` probably generated a large output. You can select the cell and clear the output by either:\n",
        "\n",
        "1. Clicking on the clear output button (x) in the toolbar above the cell; or\n",
        "2. Right clicking the left gutter of the output area and selecting \"Clear output\" from the context menu.\n",
        "\n",
        "Execute any other process using `!` with string interpolation from python variables, and note the result can be assigned to a variable:"
      ]
    },
    {
      "cell_type": "code",
      "execution_count": 24,
      "metadata": {
        "cellView": "both",
        "id": "zqGrv0blQSHj",
        "outputId": "cb2503be-cb6a-4327-a5e4-5afb5ae1be85",
        "colab": {
          "base_uri": "https://localhost:8080/"
        }
      },
      "outputs": [
        {
          "output_type": "execute_result",
          "data": {
            "text/plain": [
              "['Colaboratory is great!',\n",
              " 'Colaboratory is great!',\n",
              " 'Colaboratory is great!',\n",
              " 'Colaboratory is great!']"
            ]
          },
          "metadata": {},
          "execution_count": 24
        }
      ],
      "source": [
        "# In https://github.com/ipython/ipython/pull/10545, single quote strings are ignored\n",
        "message = 'Colaboratory is great!'\n",
        "foo = !unset message && echo -e '{message}\\n{message}\\n'$message\"\\n$message\"\n",
        "foo"
      ]
    },
    {
      "cell_type": "markdown",
      "metadata": {
        "id": "qM4myQGfQboQ"
      },
      "source": [
        "## Magics\n",
        "Colaboratory shares the notion of magics from Jupyter. There are shorthand annotations that change how a cell's text is executed. To learn more, see [Jupyter's magics page](http://nbviewer.jupyter.org/github/ipython/ipython/blob/1.x/examples/notebooks/Cell%20Magics.ipynb).\n"
      ]
    },
    {
      "cell_type": "code",
      "execution_count": 25,
      "metadata": {
        "cellView": "both",
        "colab": {
          "height": 38,
          "base_uri": "https://localhost:8080/"
        },
        "id": "odfM-_GxWbCy",
        "outputId": "d13a76b6-40b0-4644-e196-5875fa91b59c"
      },
      "outputs": [
        {
          "output_type": "display_data",
          "data": {
            "text/plain": [
              "<IPython.core.display.HTML object>"
            ],
            "text/html": [
              "<marquee style='width: 30%; color: blue;'><b>Whee!</b></marquee>\n"
            ]
          },
          "metadata": {}
        }
      ],
      "source": [
        "%%html\n",
        "<marquee style='width: 30%; color: blue;'><b>Whee!</b></marquee>"
      ]
    },
    {
      "cell_type": "code",
      "execution_count": 12,
      "metadata": {
        "colab": {
          "height": 221,
          "base_uri": "https://localhost:8080/"
        },
        "id": "_YrTcK7k22Fp",
        "outputId": "ed64741a-efae-40bb-ef28-5df7222c278a"
      },
      "outputs": [
        {
          "output_type": "display_data",
          "data": {
            "text/plain": [
              "<IPython.core.display.HTML object>"
            ],
            "text/html": [
              "<svg xmlns=\"http://www.w3.org/2000/svg\" viewBox=\"0 0 450 400\" width=\"200\" height=\"200\">\n",
              "  <rect x=\"80\" y=\"60\" width=\"250\" height=\"250\" rx=\"20\" style=\"fill:red; stroke:black; fill-opacity:0.7\" />\n",
              "  <rect x=\"180\" y=\"110\" width=\"250\" height=\"250\" rx=\"40\" style=\"fill:blue; stroke:black; fill-opacity:0.5;\" />\n",
              "</svg>\n"
            ]
          },
          "metadata": {}
        }
      ],
      "source": [
        "%%html\n",
        "<svg xmlns=\"http://www.w3.org/2000/svg\" viewBox=\"0 0 450 400\" width=\"200\" height=\"200\">\n",
        "  <rect x=\"80\" y=\"60\" width=\"250\" height=\"250\" rx=\"20\" style=\"fill:red; stroke:black; fill-opacity:0.7\" />\n",
        "  <rect x=\"180\" y=\"110\" width=\"250\" height=\"250\" rx=\"40\" style=\"fill:blue; stroke:black; fill-opacity:0.5;\" />\n",
        "</svg>"
      ]
    },
    {
      "cell_type": "markdown",
      "metadata": {
        "id": "d4L9TOP9QSHn"
      },
      "source": [
        "## Automatic completions and exploring code\n",
        "\n",
        "Colab provides automatic completions to explore attributes of Python objects, as well as to quickly view documentation strings. As an example, first run the following cell to import the  [`numpy`](http://www.numpy.org) module."
      ]
    },
    {
      "cell_type": "code",
      "execution_count": 10,
      "metadata": {
        "cellView": "both",
        "id": "Q0JKWcmtQSHp"
      },
      "outputs": [],
      "source": [
        "import numpy as np"
      ]
    },
    {
      "cell_type": "markdown",
      "metadata": {
        "id": "1M890-bXeyYp"
      },
      "source": [
        "If you now insert your cursor after `np` and press **Period**(`.`), you will see the list of available completions within the `np` module. Completions can be opened again by using **Ctrl+Space**."
      ]
    },
    {
      "cell_type": "code",
      "execution_count": 13,
      "metadata": {
        "cellView": "both",
        "colab": {
          "base_uri": "https://localhost:8080/"
        },
        "id": "j6QRIfUHQSHq",
        "outputId": "25080b4a-466c-4ed4-b3e8-f23801a556de"
      },
      "outputs": [
        {
          "output_type": "execute_result",
          "data": {
            "text/plain": [
              "<module 'numpy' from '/usr/local/lib/python3.11/dist-packages/numpy/__init__.py'>"
            ]
          },
          "metadata": {},
          "execution_count": 13
        }
      ],
      "source": [
        "np"
      ]
    },
    {
      "cell_type": "markdown",
      "metadata": {
        "id": "g6MfomFhQSHs"
      },
      "source": [
        "If you type an open parenthesis after any function or class in the module, you will see a pop-up of its documentation string:"
      ]
    },
    {
      "cell_type": "code",
      "execution_count": 14,
      "metadata": {
        "cellView": "both",
        "colab": {
          "base_uri": "https://localhost:8080/"
        },
        "id": "SD0XnrVhQSHt",
        "outputId": "76d52056-b52b-45b3-906b-84ef26d0b312"
      },
      "outputs": [
        {
          "output_type": "execute_result",
          "data": {
            "text/plain": [
              "numpy.ndarray"
            ]
          },
          "metadata": {},
          "execution_count": 14
        }
      ],
      "source": [
        "np.ndarray"
      ]
    },
    {
      "cell_type": "markdown",
      "metadata": {
        "id": "GVIVDgdaRjPQ"
      },
      "source": [
        "The documentation can be opened again using **Ctrl+Shift+Space** or you can view the documentation for method by mouse hovering over the method name.\n",
        "\n",
        "When hovering over the method name the `Open in tab` link will open the documentation in a persistent pane. The `View source` link will navigate to the source code for the method."
      ]
    },
    {
      "cell_type": "markdown",
      "metadata": {
        "id": "TYTBdJXxfqiJ"
      },
      "source": [
        "## Exception Formatting"
      ]
    },
    {
      "cell_type": "markdown",
      "metadata": {
        "id": "4bqAVK-aQSHx"
      },
      "source": [
        "Exceptions are formatted nicely in Colab outputs:"
      ]
    },
    {
      "cell_type": "code",
      "execution_count": 15,
      "metadata": {
        "cellView": "both",
        "colab": {
          "base_uri": "https://localhost:8080/",
          "height": 207
        },
        "id": "CrJf1PEmQSHx",
        "outputId": "b26fc10c-0ca9-4cd2-eb37-ac6917e136ac"
      },
      "outputs": [
        {
          "output_type": "error",
          "ename": "ZeroDivisionError",
          "evalue": "division by zero",
          "traceback": [
            "\u001b[0;31m---------------------------------------------------------------------------\u001b[0m",
            "\u001b[0;31mZeroDivisionError\u001b[0m                         Traceback (most recent call last)",
            "\u001b[0;32m<ipython-input-15-d93e730d8440>\u001b[0m in \u001b[0;36m<cell line: 0>\u001b[0;34m()\u001b[0m\n\u001b[1;32m      1\u001b[0m \u001b[0mx\u001b[0m \u001b[0;34m=\u001b[0m \u001b[0;36m1\u001b[0m\u001b[0;34m\u001b[0m\u001b[0;34m\u001b[0m\u001b[0m\n\u001b[1;32m      2\u001b[0m \u001b[0my\u001b[0m \u001b[0;34m=\u001b[0m \u001b[0;36m4\u001b[0m\u001b[0;34m\u001b[0m\u001b[0;34m\u001b[0m\u001b[0m\n\u001b[0;32m----> 3\u001b[0;31m \u001b[0mz\u001b[0m \u001b[0;34m=\u001b[0m \u001b[0my\u001b[0m\u001b[0;34m/\u001b[0m\u001b[0;34m(\u001b[0m\u001b[0;36m1\u001b[0m\u001b[0;34m-\u001b[0m\u001b[0mx\u001b[0m\u001b[0;34m)\u001b[0m\u001b[0;34m\u001b[0m\u001b[0;34m\u001b[0m\u001b[0m\n\u001b[0m",
            "\u001b[0;31mZeroDivisionError\u001b[0m: division by zero"
          ]
        }
      ],
      "source": [
        "x = 1\n",
        "y = 4\n",
        "z = y/(1-x)"
      ]
    },
    {
      "cell_type": "markdown",
      "metadata": {
        "id": "7cRnhv_7N4Pa"
      },
      "source": [
        "## Rich, interactive outputs\n",
        "Until now all of the generated outputs have been text, but they can be more interesting, like the chart below."
      ]
    },
    {
      "cell_type": "code",
      "execution_count": 16,
      "metadata": {
        "colab": {
          "height": 452,
          "base_uri": "https://localhost:8080/"
        },
        "id": "JVXnTqyE9RET",
        "outputId": "22f6f0ae-16f1-44a6-89f2-b25f753b4fa7"
      },
      "outputs": [
        {
          "output_type": "display_data",
          "data": {
            "text/plain": [
              "<Figure size 640x480 with 1 Axes>"
            ],
            "image/png": "[encoded data removed]"
          },
          "metadata": {}
        }
      ],
      "source": [
        "import numpy as np\n",
        "from matplotlib import pyplot as plt\n",
        "\n",
        "ys = 200 + np.random.randn(100)\n",
        "x = [x for x in range(len(ys))]\n",
        "\n",
        "plt.plot(x, ys, '-')\n",
        "plt.fill_between(x, ys, 195, where=(ys > 195), facecolor='g', alpha=0.6)\n",
        "\n",
        "plt.title(\"Fills and Alpha Example\")\n",
        "plt.show()"
      ]
    },
    {
      "cell_type": "markdown",
      "metadata": {
        "id": "aro-UJgUQSH1"
      },
      "source": [
        "# Integration with Drive\n",
        "\n",
        "Colaboratory is integrated with Google Drive. It allows you to share, comment, and collaborate on the same document with multiple people:\n",
        "\n",
        "* The **SHARE** button (top-right of the toolbar) allows you to share the notebook and control permissions set on it.\n",
        "\n",
        "* **File->Make a Copy** creates a copy of the notebook in Drive.\n",
        "\n",
        "* **File->Save** saves the File to Drive. **File->Save and checkpoint** pins the version so it doesn't get deleted from the revision history.\n",
        "\n",
        "* **File->Revision history** shows the notebook's revision history."
      ]
    },
    {
      "cell_type": "markdown",
      "metadata": {
        "id": "4hfV37gxpP_c"
      },
      "source": [
        "## Commenting on a cell\n",
        "You can comment on a Colaboratory notebook like you would on a Google Document. Comments are attached to cells, and are displayed next to the cell they refer to. If you have **comment-only** permissions, you will see a comment button on the top right of the cell when you hover over it.\n",
        "\n",
        "If you have edit or comment permissions you can comment on a cell in one of three ways:\n",
        "\n",
        "1. Select a cell and click the comment button in the toolbar above the top-right corner of the cell.\n",
        "1. Right click a text cell and select **Add a comment** from the context menu.\n",
        "3. Use the shortcut **Ctrl+Shift+M** to add a comment to the currently selected cell.\n",
        "\n",
        "You can resolve and reply to comments, and you can target comments to specific collaborators by typing *+[email address]* (e.g., `+user@domain.com`). Addressed collaborators will be emailed.\n",
        "\n",
        "The Comment button in the top-right corner of the page shows all comments attached to the notebook."
      ]
    }
  ],
  "metadata": {
    "colab": {
      "name": "Overview of Colaboratory Features",
      "toc_visible": true,
      "provenance": [],
      "include_colab_link": true
    },
    "kernelspec": {
      "display_name": "Python 3",
      "name": "python3"
    }
  },
  "nbformat": 4,
  "nbformat_minor": 0
}